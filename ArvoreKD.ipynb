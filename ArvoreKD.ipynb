{
 "cells": [
  {
   "cell_type": "code",
   "execution_count": 1,
   "metadata": {},
   "outputs": [],
   "source": [
    "import numpy as np\n",
    "import pandas as pd\n",
    "import csv\n",
    "import math\n",
    "from heapq import heapify, heappush, heappushpop, nlargest, nsmallest"
   ]
  },
  {
   "cell_type": "markdown",
   "metadata": {},
   "source": [
    "## Construindo Árvore KD"
   ]
  },
  {
   "cell_type": "markdown",
   "metadata": {},
   "source": [
    "### Class Node"
   ]
  },
  {
   "cell_type": "code",
   "execution_count": 2,
   "metadata": {},
   "outputs": [],
   "source": [
    "class Node:\n",
    "    left = None\n",
    "    right = None\n",
    "    plane = None\n",
    "    point = None\n",
    "    def __init__(self):\n",
    "        pass\n",
    "    def __lt__(self, other):\n",
    "        a = True\n",
    "        return a\n",
    "    def __le__(self,other):\n",
    "        a = False\n",
    "        return a\n",
    "    def setDimension(self, dimension):\n",
    "        self.dimension = dimension\n",
    "    def setValue(self, value):\n",
    "        self.value = float(value)"
   ]
  },
  {
   "cell_type": "code",
   "execution_count": 3,
   "metadata": {},
   "outputs": [],
   "source": [
    "class KDTree:\n",
    "    def __init__(self, dataframe):\n",
    "        self.root = self.BuildKDTree(dataframe, 0)\n",
    "    def BuildKDTree(self, P, dimension):\n",
    "        node = Node()\n",
    "        if len(P) > 1:\n",
    "            parameters = list(P.columns.values.tolist())[:-1]\n",
    "            P = P.sort_values(dimension).reset_index(drop=True)\n",
    "            medianPosition = math.floor(len(P.index) / 2)\n",
    "            \n",
    "            node.dimension = dimension\n",
    "            node.plane = P.iloc[medianPosition][dimension]\n",
    "            \n",
    "            P1 = P.iloc[: medianPosition, : ]\n",
    "            P2 = P.iloc[medianPosition : , : ]\n",
    "            if len(P1.index) > 0:\n",
    "                node.left = self.BuildKDTree(P1, (dimension + 1) % len(parameters))\n",
    "            if len(P2.index) > 0:\n",
    "                node.right = self.BuildKDTree(P2, (dimension + 1) % len(parameters))\n",
    "        else:\n",
    "            node.point = P.values.tolist()[0]\n",
    "        return node"
   ]
  },
  {
   "cell_type": "code",
   "execution_count": 4,
   "metadata": {},
   "outputs": [],
   "source": [
    "class PriorityQueue:\n",
    "    def __init__(self, maxsize):\n",
    "        self.maxsize = maxsize\n",
    "        self.q = list()\n",
    "    def put(self, item):\n",
    "        if len(self.q) < self.maxsize:\n",
    "            self.q.append(item)\n",
    "        elif abs(self.top()[0]) > abs(item[0]):\n",
    "            self.pop()\n",
    "            self.q.append(item)\n",
    "    def pop(self):\n",
    "        if len(self.q) > 0:\n",
    "            maxPriority = max(self.q, key=lambda item: item[0])\n",
    "            self.q.remove(maxPriority)\n",
    "    def top(self):\n",
    "        return max(self.q, key=lambda item: item[0])\n",
    "    def bottom(self):\n",
    "        return min(self.q, key=lambda item: item[0])"
   ]
  },
  {
   "cell_type": "code",
   "execution_count": 5,
   "metadata": {},
   "outputs": [],
   "source": [
    "def euclideanDistance(p1, p2):\n",
    "    distance = 0.0\n",
    "    for i in range(len(p1) - 1):\n",
    "        distance = distance + (float(p1[i]) - float(p2[i])) ** 2\n",
    "    return math.sqrt(distance)\n",
    "class xNN:\n",
    "    def __init__(self, train, test, maxsize):\n",
    "        self.KDTree = KDTree(train)\n",
    "        self.root = self.KDTree.root\n",
    "        self.test = test\n",
    "    def findPriorityQueue(self, priorityQueue, node, point):\n",
    "        #If node is a leaf\n",
    "        if node.left == None and node.right == None:\n",
    "            distance = euclideanDistance(node.point, point)\n",
    "            priorityQueue.put((distance, node))\n",
    "        else:\n",
    "            dimension = node.dimension\n",
    "        #print(\"float(point[dimension]) = {} > float(node.value) = {}\".format(float(point[dimension]), float(node.value)))\n",
    "            if float(point[dimension]) > float(node.plane):\n",
    "                nextBranch = node.right\n",
    "                oppositeBranch = node.left\n",
    "            else:\n",
    "                nextBranch = node.left\n",
    "                oppositeBranch = node.right\n",
    "            priorityQueue = self.findPriorityQueue(priorityQueue, nextBranch, point)\n",
    "            if abs(priorityQueue.top()[0]) > abs(float(point[dimension]) - float(node.plane)):\n",
    "                priorityQueue = self.findPriorityQueue(priorityQueue, oppositeBranch, point)\n",
    "        return priorityQueue\n",
    "    def runTest(self, attributes):\n",
    "        actualClassification = list()\n",
    "        predictedClassification = list()\n",
    "        attributesCount = [0] * len(attributes)\n",
    "        for i, row in self.test.iterrows():\n",
    "            priorityQueue = PriorityQueue(5)\n",
    "            priorityQueue = self.findPriorityQueue(priorityQueue, self.root, row)\n",
    "            nearestNeighbour = priorityQueue.bottom()[1].point\n",
    "            actualClassification.append(row.tolist()[-1])\n",
    "            predictedClassification.append(nearestNeighbour[-1])\n",
    "            \n",
    "        actualCategorical = pd.Categorical(actualClassification, categories = attributes)\n",
    "        predictedCategorical = pd.Categorical(predictedClassification, categories = attributes)\n",
    "        \n",
    "        confusionMatrix = pd.crosstab(actualCategorical, predictedCategorical, rownames = ['Actual'], colnames = ['Predicted'], dropna = False)\n",
    "        print(confusionMatrix)\n",
    "        print(\"Acurácia é {}\".format(np.diag(confusionMatrix).sum() / confusionMatrix.to_numpy().sum()))\n",
    "        for i, row in confusionMatrix.iterrows():\n",
    "            #print(\"i: {}, row: {}, row[i]: {}\".format(i, row, row[i]))\n",
    "            if row.sum() != 0.0:\n",
    "                print(\"Precisão de '{}' é {}\".format(i, row[i] / row.sum()))\n",
    "        for name, data in confusionMatrix.iteritems():\n",
    "            if data.sum() != 0.0:\n",
    "                print(\"Revocação de '{}' é {}\".format(name, data[name] / data.sum()))"
   ]
  },
  {
   "cell_type": "code",
   "execution_count": 6,
   "metadata": {},
   "outputs": [],
   "source": [
    "def process1(fileName, classification):\n",
    "        datContent = [i.strip().split() for i in open(\"./\" + fileName + \".dat\").readlines()]\n",
    "        #print(datContent)\n",
    "        #Write it as a new CSV file\n",
    "        with open(\"./\" + fileName + \".csv\", \"w\") as f:\n",
    "            writer = csv.writer(f)\n",
    "            writer.writerows(datContent)\n",
    "\n",
    "        file = open(fileName + \".csv\",'r')\n",
    "        final_file = open(\"final_\" + fileName + \".csv\",'w')\n",
    "        writer = csv.writer(final_file)\n",
    "        #Remove .dat headers\n",
    "        for row in csv.reader(file):\n",
    "            #If row is not empty\n",
    "            if(bool(row) != False):\n",
    "            #If row is not a header\n",
    "                if(row[0].startswith('@') == False):\n",
    "                    writer.writerow(row)\n",
    "            string = \" \".join(row)\n",
    "            #Get attributes list\n",
    "            if string.startswith('@attribute ' + classification):\n",
    "                attributes = string.strip('@attribute ' + classification).strip('{}').split(',')\n",
    "                #print(\"Attributes: {}\".format(attributes))      \n",
    "        file.close()\n",
    "        final_file.close()\n",
    "        #Remove unnecessary commas and quotes\n",
    "        dataframe = pd.read_csv(\"./final_\" + fileName + \".csv\", header = None)\n",
    "        #print(dataframe)\n",
    "        dataframe = dataframe.sample(frac = 1).reset_index(drop=True)\n",
    "        dataframe = dataframe.replace({',':''}, regex=True)\n",
    "        dataframe = dataframe.replace({'\"':''}, regex=True)\n",
    "        #print(dataframe)\n",
    "        rows = len(dataframe.index)\n",
    "        #print(rows)\n",
    "        train = dataframe.iloc[: math.floor(rows * 0.7), :]\n",
    "        test = dataframe.iloc[math.floor(rows * 0.7):, :]\n",
    "        XNN = xNN(train, test, 2)\n",
    "        XNN.runTest(attributes)"
   ]
  },
  {
   "cell_type": "code",
   "execution_count": 7,
   "metadata": {},
   "outputs": [],
   "source": [
    "def process2(fileName, classification):\n",
    "        datContent = [i.strip().split() for i in open(\"./\" + fileName + \".dat\").readlines()]\n",
    "        #print(datContent)\n",
    "        #Write it as a new CSV file\n",
    "        with open(\"./\" + fileName + \".csv\", \"w\") as f:\n",
    "            writer = csv.writer(f)\n",
    "            writer.writerows(datContent)\n",
    "        file = open(fileName + \".csv\",'r')\n",
    "        final_file = open(\"final_\" + fileName + \".csv\",'w')\n",
    "        writer = csv.writer(final_file, delimiter = ',', quoting = csv.QUOTE_NONE, escapechar = \" \")\n",
    "        #Remove .dat headers\n",
    "        for row in csv.reader(file):\n",
    "            #If row is not empty\n",
    "            if(bool(row) != False):\n",
    "            #If row is not a header\n",
    "                if(row[0].startswith('@') == False):\n",
    "                    #print(row)\n",
    "                    row[0] = str(row[0].replace(',', \"','\"))\n",
    "                    #print(row)\n",
    "                    row[0] = str(\"'\" + row[0] + \"'\")\n",
    "                    row = row[0].split(\",\")\n",
    "                    writer.writerow(row)\n",
    "            string = \" \".join(row)\n",
    "            #print(\"String: {}\".format(string))\n",
    "            #Get attributes list\n",
    "            if string.startswith('@attribute ' + classification):\n",
    "                attributes = string.strip('@attribute ' + classification).strip('{}').split(',')\n",
    "                #print(\"Attributes: {}\".format(attributes))      \n",
    "        file.close()\n",
    "        final_file.close()\n",
    "        dataframe = pd.read_csv(\"./final_\" + fileName + \".csv\", header = None)\n",
    "        #print(dataframe)\n",
    "        dataframe = dataframe.sample(frac = 1).reset_index(drop=True)\n",
    "        dataframe = dataframe.replace({\"'\":''}, regex=True)\n",
    "        dataframe = dataframe.replace({',':''}, regex=True)\n",
    "        #print(dataframe)\n",
    "        rows = len(dataframe.index)\n",
    "        #print(rows)\n",
    "        train = dataframe.iloc[: math.floor(rows * 0.7), :]\n",
    "        test = dataframe.iloc[math.floor(rows * 0.7):, :]\n",
    "        XNN = xNN(train, test, 5)\n",
    "        XNN.runTest(attributes)"
   ]
  },
  {
   "cell_type": "code",
   "execution_count": 8,
   "metadata": {},
   "outputs": [
    {
     "name": "stdout",
     "output_type": "stream",
     "text": [
      "Predicted         Iris-setosa   Iris-versicolor   Iris-virginica\n",
      "Actual                                                          \n",
      "Iris-setosa                15                 0                0\n",
      " Iris-versicolor            0                 0                0\n",
      " Iris-virginica             0                 0                0\n",
      "Acurácia é 1.0\n",
      "Precisão de 'Iris-setosa' é 1.0\n",
      "Revocação de 'Iris-setosa' é 1.0\n"
     ]
    }
   ],
   "source": [
    "process1(\"iris\", \"Class\")"
   ]
  },
  {
   "cell_type": "code",
   "execution_count": 9,
   "metadata": {},
   "outputs": [
    {
     "name": "stdout",
     "output_type": "stream",
     "text": [
      "Predicted  -1.0  1.0\n",
      "Actual              \n",
      "-1.0        779   95\n",
      "1.0         139  578\n",
      "Acurácia é 0.8529226901319925\n",
      "Precisão de '-1.0' é 0.8913043478260869\n",
      "Precisão de '1.0' é 0.806136680613668\n",
      "Revocação de '-1.0' é 0.8485838779956427\n",
      "Revocação de '1.0' é 0.8588410104011887\n"
     ]
    }
   ],
   "source": [
    "process2(\"banana\", \"Class\")"
   ]
  },
  {
   "cell_type": "code",
   "execution_count": 10,
   "metadata": {},
   "outputs": [
    {
     "name": "stdout",
     "output_type": "stream",
     "text": [
      "Predicted  -1.0  1.0\n",
      "Actual              \n",
      "-1.0        460    0\n",
      "1.0         148   53\n",
      "Acurácia é 0.7760968229954615\n",
      "Precisão de '-1.0' é 1.0\n",
      "Precisão de '1.0' é 0.263681592039801\n",
      "Revocação de '-1.0' é 0.756578947368421\n",
      "Revocação de '1.0' é 1.0\n"
     ]
    }
   ],
   "source": [
    "process2(\"titanic\", \"Survived\")"
   ]
  },
  {
   "cell_type": "code",
   "execution_count": 11,
   "metadata": {},
   "outputs": [
    {
     "name": "stdout",
     "output_type": "stream",
     "text": [
      "Predicted  cp  im  imS  imL  imU  om  omL  pp\n",
      "Actual                                       \n",
      "cp         36   0    0    0    0   0    0   3\n",
      "im          2  15    0    0    7   0    0   3\n",
      "imS         0   1    0    0    0   0    0   1\n",
      "imL         0   0    0    0    0   0    1   0\n",
      "imU         0   3    0    0    3   0    0   1\n",
      "om          1   1    0    0    0   4    0   2\n",
      "omL         0   0    0    0    0   0    1   0\n",
      "pp          4   0    0    0    0   0    0  12\n",
      "Acurácia é 0.7029702970297029\n",
      "Precisão de 'cp' é 0.9230769230769231\n",
      "Precisão de 'im' é 0.5555555555555556\n",
      "Precisão de 'imS' é 0.0\n",
      "Precisão de 'imL' é 0.0\n",
      "Precisão de 'imU' é 0.42857142857142855\n",
      "Precisão de 'om' é 0.5\n",
      "Precisão de 'omL' é 1.0\n",
      "Precisão de 'pp' é 0.75\n",
      "Revocação de 'cp' é 0.8372093023255814\n",
      "Revocação de 'im' é 0.75\n",
      "Revocação de 'imU' é 0.3\n",
      "Revocação de 'om' é 1.0\n",
      "Revocação de 'omL' é 0.5\n",
      "Revocação de 'pp' é 0.5454545454545454\n"
     ]
    }
   ],
   "source": [
    "process2(\"ecoli\", \"Site\")"
   ]
  },
  {
   "cell_type": "code",
   "execution_count": 12,
   "metadata": {},
   "outputs": [
    {
     "name": "stdout",
     "output_type": "stream",
     "text": [
      "Predicted     0   1\n",
      "Actual             \n",
      "0          1044   0\n",
      " 1            0   0\n",
      "Acurácia é 1.0\n",
      "Precisão de '0' é 1.0\n",
      "Revocação de '0' é 1.0\n"
     ]
    }
   ],
   "source": [
    "process2(\"phoneme\", \"Class\")"
   ]
  },
  {
   "cell_type": "code",
   "execution_count": 13,
   "metadata": {},
   "outputs": [
    {
     "name": "stdout",
     "output_type": "stream",
     "text": [
      "Predicted         tested_negative   tested_positive\n",
      "Actual                                             \n",
      "tested_negative               107                 0\n",
      " tested_positive                0                 0\n",
      "Acurácia é 1.0\n",
      "Precisão de 'tested_negative' é 1.0\n",
      "Revocação de 'tested_negative' é 1.0\n"
     ]
    }
   ],
   "source": [
    "process2(\"pima\", \"Class\")"
   ]
  },
  {
   "cell_type": "code",
   "execution_count": 14,
   "metadata": {},
   "outputs": [
    {
     "name": "stdout",
     "output_type": "stream",
     "text": [
      "Predicted  positive   negative\n",
      "Actual                        \n",
      "positive         10          0\n",
      " negative         0          0\n",
      "Acurácia é 1.0\n",
      "Precisão de 'positive' é 1.0\n",
      "Revocação de 'positive' é 1.0\n"
     ]
    }
   ],
   "source": [
    "process1(\"haberman\", \"Survival\")"
   ]
  },
  {
   "cell_type": "code",
   "execution_count": 15,
   "metadata": {},
   "outputs": [
    {
     "name": "stdout",
     "output_type": "stream",
     "text": [
      "Predicted   1   2\n",
      "Actual           \n",
      "1          28   0\n",
      " 2          0   0\n",
      "Acurácia é 1.0\n",
      "Precisão de '1' é 1.0\n",
      "Revocação de '1' é 1.0\n"
     ]
    }
   ],
   "source": [
    "process2(\"heart\", \"Class\")"
   ]
  },
  {
   "cell_type": "code",
   "execution_count": 16,
   "metadata": {},
   "outputs": [
    {
     "name": "stdout",
     "output_type": "stream",
     "text": [
      "Predicted   M   B\n",
      "Actual           \n",
      "M          52   0\n",
      " B          0   0\n",
      "Acurácia é 1.0\n",
      "Precisão de 'M' é 1.0\n",
      "Revocação de 'M' é 1.0\n"
     ]
    }
   ],
   "source": [
    "process2(\"wdbc\", \"Class\")"
   ]
  },
  {
   "cell_type": "code",
   "execution_count": 17,
   "metadata": {},
   "outputs": [
    {
     "name": "stdout",
     "output_type": "stream",
     "text": [
      "Predicted   0  1\n",
      "Actual          \n",
      "0          22  5\n",
      "1           1  4\n",
      "Acurácia é 0.8125\n",
      "Precisão de '0' é 0.8148148148148148\n",
      "Precisão de '1' é 0.8\n",
      "Revocação de '0' é 0.9565217391304348\n",
      "Revocação de '1' é 0.4444444444444444\n"
     ]
    }
   ],
   "source": [
    "process2(\"appendicitis\", \"Class\")"
   ]
  }
 ],
 "metadata": {
  "kernelspec": {
   "display_name": "Python 3",
   "language": "python",
   "name": "python3"
  },
  "language_info": {
   "codemirror_mode": {
    "name": "ipython",
    "version": 3
   },
   "file_extension": ".py",
   "mimetype": "text/x-python",
   "name": "python",
   "nbconvert_exporter": "python",
   "pygments_lexer": "ipython3",
   "version": "3.8.3"
  }
 },
 "nbformat": 4,
 "nbformat_minor": 4
}
